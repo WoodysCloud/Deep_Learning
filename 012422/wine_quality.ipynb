{
 "cells": [
  {
   "cell_type": "code",
   "execution_count": 1,
   "id": "aee95113",
   "metadata": {},
   "outputs": [
    {
     "name": "stdout",
     "output_type": "stream",
     "text": [
      "시드 고정:  12\n"
     ]
    }
   ],
   "source": [
    "# 필수 라이브러리\n",
    "import pandas as pd\n",
    "import numpy as np\n",
    "import random\n",
    "import tensorflow as tf\n",
    "\n",
    "# 랜덤 시드 고정\n",
    "SEED=12\n",
    "random.seed(SEED)\n",
    "np.random.seed(SEED)\n",
    "tf.random.set_seed(SEED)  \n",
    "print(\"시드 고정: \", SEED)"
   ]
  },
  {
   "cell_type": "code",
   "execution_count": 2,
   "id": "aeb63187",
   "metadata": {},
   "outputs": [
    {
     "name": "stdout",
     "output_type": "stream",
     "text": [
      "(5497, 14)\n"
     ]
    }
   ],
   "source": [
    "data = pd.read_csv(\"data/train.csv\")\n",
    "\n",
    "print(data.shape)"
   ]
  },
  {
   "cell_type": "code",
   "execution_count": 4,
   "id": "720c7d2c",
   "metadata": {},
   "outputs": [
    {
     "data": {
      "text/html": [
       "<div>\n",
       "<style scoped>\n",
       "    .dataframe tbody tr th:only-of-type {\n",
       "        vertical-align: middle;\n",
       "    }\n",
       "\n",
       "    .dataframe tbody tr th {\n",
       "        vertical-align: top;\n",
       "    }\n",
       "\n",
       "    .dataframe thead th {\n",
       "        text-align: right;\n",
       "    }\n",
       "</style>\n",
       "<table border=\"1\" class=\"dataframe\">\n",
       "  <thead>\n",
       "    <tr style=\"text-align: right;\">\n",
       "      <th></th>\n",
       "      <th>index</th>\n",
       "      <th>quality</th>\n",
       "      <th>fixed acidity</th>\n",
       "      <th>volatile acidity</th>\n",
       "      <th>citric acid</th>\n",
       "      <th>residual sugar</th>\n",
       "      <th>chlorides</th>\n",
       "      <th>free sulfur dioxide</th>\n",
       "      <th>total sulfur dioxide</th>\n",
       "      <th>density</th>\n",
       "      <th>pH</th>\n",
       "      <th>sulphates</th>\n",
       "      <th>alcohol</th>\n",
       "      <th>type</th>\n",
       "    </tr>\n",
       "  </thead>\n",
       "  <tbody>\n",
       "    <tr>\n",
       "      <th>0</th>\n",
       "      <td>0</td>\n",
       "      <td>5</td>\n",
       "      <td>5.6</td>\n",
       "      <td>0.695</td>\n",
       "      <td>0.06</td>\n",
       "      <td>6.8</td>\n",
       "      <td>0.042</td>\n",
       "      <td>9.0</td>\n",
       "      <td>84.0</td>\n",
       "      <td>0.99432</td>\n",
       "      <td>3.44</td>\n",
       "      <td>0.44</td>\n",
       "      <td>10.2</td>\n",
       "      <td>white</td>\n",
       "    </tr>\n",
       "    <tr>\n",
       "      <th>1</th>\n",
       "      <td>1</td>\n",
       "      <td>5</td>\n",
       "      <td>8.8</td>\n",
       "      <td>0.610</td>\n",
       "      <td>0.14</td>\n",
       "      <td>2.4</td>\n",
       "      <td>0.067</td>\n",
       "      <td>10.0</td>\n",
       "      <td>42.0</td>\n",
       "      <td>0.99690</td>\n",
       "      <td>3.19</td>\n",
       "      <td>0.59</td>\n",
       "      <td>9.5</td>\n",
       "      <td>red</td>\n",
       "    </tr>\n",
       "    <tr>\n",
       "      <th>2</th>\n",
       "      <td>2</td>\n",
       "      <td>5</td>\n",
       "      <td>7.9</td>\n",
       "      <td>0.210</td>\n",
       "      <td>0.39</td>\n",
       "      <td>2.0</td>\n",
       "      <td>0.057</td>\n",
       "      <td>21.0</td>\n",
       "      <td>138.0</td>\n",
       "      <td>0.99176</td>\n",
       "      <td>3.05</td>\n",
       "      <td>0.52</td>\n",
       "      <td>10.9</td>\n",
       "      <td>white</td>\n",
       "    </tr>\n",
       "    <tr>\n",
       "      <th>3</th>\n",
       "      <td>3</td>\n",
       "      <td>6</td>\n",
       "      <td>7.0</td>\n",
       "      <td>0.210</td>\n",
       "      <td>0.31</td>\n",
       "      <td>6.0</td>\n",
       "      <td>0.046</td>\n",
       "      <td>29.0</td>\n",
       "      <td>108.0</td>\n",
       "      <td>0.99390</td>\n",
       "      <td>3.26</td>\n",
       "      <td>0.50</td>\n",
       "      <td>10.8</td>\n",
       "      <td>white</td>\n",
       "    </tr>\n",
       "    <tr>\n",
       "      <th>4</th>\n",
       "      <td>4</td>\n",
       "      <td>6</td>\n",
       "      <td>7.8</td>\n",
       "      <td>0.400</td>\n",
       "      <td>0.26</td>\n",
       "      <td>9.5</td>\n",
       "      <td>0.059</td>\n",
       "      <td>32.0</td>\n",
       "      <td>178.0</td>\n",
       "      <td>0.99550</td>\n",
       "      <td>3.04</td>\n",
       "      <td>0.43</td>\n",
       "      <td>10.9</td>\n",
       "      <td>white</td>\n",
       "    </tr>\n",
       "  </tbody>\n",
       "</table>\n",
       "</div>"
      ],
      "text/plain": [
       "   index  quality  fixed acidity  volatile acidity  citric acid  \\\n",
       "0      0        5            5.6             0.695         0.06   \n",
       "1      1        5            8.8             0.610         0.14   \n",
       "2      2        5            7.9             0.210         0.39   \n",
       "3      3        6            7.0             0.210         0.31   \n",
       "4      4        6            7.8             0.400         0.26   \n",
       "\n",
       "   residual sugar  chlorides  free sulfur dioxide  total sulfur dioxide  \\\n",
       "0             6.8      0.042                  9.0                  84.0   \n",
       "1             2.4      0.067                 10.0                  42.0   \n",
       "2             2.0      0.057                 21.0                 138.0   \n",
       "3             6.0      0.046                 29.0                 108.0   \n",
       "4             9.5      0.059                 32.0                 178.0   \n",
       "\n",
       "   density    pH  sulphates  alcohol   type  \n",
       "0  0.99432  3.44       0.44     10.2  white  \n",
       "1  0.99690  3.19       0.59      9.5    red  \n",
       "2  0.99176  3.05       0.52     10.9  white  \n",
       "3  0.99390  3.26       0.50     10.8  white  \n",
       "4  0.99550  3.04       0.43     10.9  white  "
      ]
     },
     "execution_count": 4,
     "metadata": {},
     "output_type": "execute_result"
    }
   ],
   "source": [
    "data.head(5)"
   ]
  },
  {
   "cell_type": "code",
   "execution_count": 5,
   "id": "85fb9da3",
   "metadata": {},
   "outputs": [
    {
     "data": {
      "text/plain": [
       "0       5\n",
       "1       5\n",
       "2       5\n",
       "3       6\n",
       "4       6\n",
       "       ..\n",
       "5492    5\n",
       "5493    6\n",
       "5494    7\n",
       "5495    5\n",
       "5496    6\n",
       "Name: quality, Length: 5497, dtype: int64"
      ]
     },
     "execution_count": 5,
     "metadata": {},
     "output_type": "execute_result"
    }
   ],
   "source": [
    "data['quality']"
   ]
  },
  {
   "cell_type": "code",
   "execution_count": 6,
   "id": "010816a0",
   "metadata": {},
   "outputs": [
    {
     "data": {
      "text/plain": [
       "white    4159\n",
       "red      1338\n",
       "Name: type, dtype: int64"
      ]
     },
     "execution_count": 6,
     "metadata": {},
     "output_type": "execute_result"
    }
   ],
   "source": [
    "data['type'].value_counts()"
   ]
  },
  {
   "cell_type": "code",
   "execution_count": 8,
   "id": "e9f028cc",
   "metadata": {},
   "outputs": [
    {
     "data": {
      "text/plain": [
       "1    4159\n",
       "0    1338\n",
       "Name: type, dtype: int64"
      ]
     },
     "execution_count": 8,
     "metadata": {},
     "output_type": "execute_result"
    }
   ],
   "source": [
    "data['type'] = np.where(data['type']=='white', 1, 0).astype(int) # 3항 연산\n",
    "data['type'].value_counts()"
   ]
  },
  {
   "cell_type": "code",
   "execution_count": 9,
   "id": "1056a74a",
   "metadata": {},
   "outputs": [
    {
     "data": {
      "text/plain": [
       "6    2416\n",
       "5    1788\n",
       "7     924\n",
       "4     186\n",
       "8     152\n",
       "3      26\n",
       "9       5\n",
       "Name: quality, dtype: int64"
      ]
     },
     "execution_count": 9,
     "metadata": {},
     "output_type": "execute_result"
    }
   ],
   "source": [
    "data['quality'].value_counts()"
   ]
  },
  {
   "cell_type": "code",
   "execution_count": 41,
   "id": "79715286",
   "metadata": {},
   "outputs": [
    {
     "data": {
      "text/plain": [
       "0       5\n",
       "1       5\n",
       "2       5\n",
       "3       6\n",
       "4       6\n",
       "       ..\n",
       "5492    5\n",
       "5493    6\n",
       "5494    7\n",
       "5495    5\n",
       "5496    6\n",
       "Name: quality, Length: 5497, dtype: int64"
      ]
     },
     "execution_count": 41,
     "metadata": {},
     "output_type": "execute_result"
    }
   ],
   "source": [
    "data.loc[:, 'quality']"
   ]
  },
  {
   "cell_type": "code",
   "execution_count": 10,
   "id": "b6bc1b60",
   "metadata": {},
   "outputs": [
    {
     "data": {
      "text/plain": [
       "array([[0., 0., 1., ..., 0., 0., 0.],\n",
       "       [0., 0., 1., ..., 0., 0., 0.],\n",
       "       [0., 0., 1., ..., 0., 0., 0.],\n",
       "       ...,\n",
       "       [0., 0., 0., ..., 1., 0., 0.],\n",
       "       [0., 0., 1., ..., 0., 0., 0.],\n",
       "       [0., 0., 0., ..., 0., 0., 0.]], dtype=float32)"
      ]
     },
     "execution_count": 10,
     "metadata": {},
     "output_type": "execute_result"
    }
   ],
   "source": [
    "from tensorflow.keras.utils import to_categorical\n",
    "\n",
    "# quality가 3부터 시작하므로 0부터 시작하게끔 \n",
    "y_data = to_categorical(data.loc[:, 'quality'] - 3) \n",
    "y_data"
   ]
  },
  {
   "cell_type": "code",
   "execution_count": 11,
   "id": "5d97e386",
   "metadata": {},
   "outputs": [
    {
     "data": {
      "text/html": [
       "<div>\n",
       "<style scoped>\n",
       "    .dataframe tbody tr th:only-of-type {\n",
       "        vertical-align: middle;\n",
       "    }\n",
       "\n",
       "    .dataframe tbody tr th {\n",
       "        vertical-align: top;\n",
       "    }\n",
       "\n",
       "    .dataframe thead th {\n",
       "        text-align: right;\n",
       "    }\n",
       "</style>\n",
       "<table border=\"1\" class=\"dataframe\">\n",
       "  <thead>\n",
       "    <tr style=\"text-align: right;\">\n",
       "      <th></th>\n",
       "      <th>fixed acidity</th>\n",
       "      <th>volatile acidity</th>\n",
       "      <th>citric acid</th>\n",
       "      <th>residual sugar</th>\n",
       "      <th>chlorides</th>\n",
       "      <th>free sulfur dioxide</th>\n",
       "      <th>total sulfur dioxide</th>\n",
       "      <th>density</th>\n",
       "      <th>pH</th>\n",
       "      <th>sulphates</th>\n",
       "      <th>alcohol</th>\n",
       "      <th>type</th>\n",
       "    </tr>\n",
       "  </thead>\n",
       "  <tbody>\n",
       "    <tr>\n",
       "      <th>0</th>\n",
       "      <td>5.6</td>\n",
       "      <td>0.695</td>\n",
       "      <td>0.06</td>\n",
       "      <td>6.8</td>\n",
       "      <td>0.042</td>\n",
       "      <td>9.0</td>\n",
       "      <td>84.0</td>\n",
       "      <td>0.99432</td>\n",
       "      <td>3.44</td>\n",
       "      <td>0.44</td>\n",
       "      <td>10.2</td>\n",
       "      <td>1</td>\n",
       "    </tr>\n",
       "    <tr>\n",
       "      <th>1</th>\n",
       "      <td>8.8</td>\n",
       "      <td>0.610</td>\n",
       "      <td>0.14</td>\n",
       "      <td>2.4</td>\n",
       "      <td>0.067</td>\n",
       "      <td>10.0</td>\n",
       "      <td>42.0</td>\n",
       "      <td>0.99690</td>\n",
       "      <td>3.19</td>\n",
       "      <td>0.59</td>\n",
       "      <td>9.5</td>\n",
       "      <td>0</td>\n",
       "    </tr>\n",
       "    <tr>\n",
       "      <th>2</th>\n",
       "      <td>7.9</td>\n",
       "      <td>0.210</td>\n",
       "      <td>0.39</td>\n",
       "      <td>2.0</td>\n",
       "      <td>0.057</td>\n",
       "      <td>21.0</td>\n",
       "      <td>138.0</td>\n",
       "      <td>0.99176</td>\n",
       "      <td>3.05</td>\n",
       "      <td>0.52</td>\n",
       "      <td>10.9</td>\n",
       "      <td>1</td>\n",
       "    </tr>\n",
       "    <tr>\n",
       "      <th>3</th>\n",
       "      <td>7.0</td>\n",
       "      <td>0.210</td>\n",
       "      <td>0.31</td>\n",
       "      <td>6.0</td>\n",
       "      <td>0.046</td>\n",
       "      <td>29.0</td>\n",
       "      <td>108.0</td>\n",
       "      <td>0.99390</td>\n",
       "      <td>3.26</td>\n",
       "      <td>0.50</td>\n",
       "      <td>10.8</td>\n",
       "      <td>1</td>\n",
       "    </tr>\n",
       "    <tr>\n",
       "      <th>4</th>\n",
       "      <td>7.8</td>\n",
       "      <td>0.400</td>\n",
       "      <td>0.26</td>\n",
       "      <td>9.5</td>\n",
       "      <td>0.059</td>\n",
       "      <td>32.0</td>\n",
       "      <td>178.0</td>\n",
       "      <td>0.99550</td>\n",
       "      <td>3.04</td>\n",
       "      <td>0.43</td>\n",
       "      <td>10.9</td>\n",
       "      <td>1</td>\n",
       "    </tr>\n",
       "    <tr>\n",
       "      <th>...</th>\n",
       "      <td>...</td>\n",
       "      <td>...</td>\n",
       "      <td>...</td>\n",
       "      <td>...</td>\n",
       "      <td>...</td>\n",
       "      <td>...</td>\n",
       "      <td>...</td>\n",
       "      <td>...</td>\n",
       "      <td>...</td>\n",
       "      <td>...</td>\n",
       "      <td>...</td>\n",
       "      <td>...</td>\n",
       "    </tr>\n",
       "    <tr>\n",
       "      <th>5492</th>\n",
       "      <td>7.7</td>\n",
       "      <td>0.150</td>\n",
       "      <td>0.29</td>\n",
       "      <td>1.3</td>\n",
       "      <td>0.029</td>\n",
       "      <td>10.0</td>\n",
       "      <td>64.0</td>\n",
       "      <td>0.99320</td>\n",
       "      <td>3.35</td>\n",
       "      <td>0.39</td>\n",
       "      <td>10.1</td>\n",
       "      <td>1</td>\n",
       "    </tr>\n",
       "    <tr>\n",
       "      <th>5493</th>\n",
       "      <td>6.3</td>\n",
       "      <td>0.180</td>\n",
       "      <td>0.36</td>\n",
       "      <td>1.2</td>\n",
       "      <td>0.034</td>\n",
       "      <td>26.0</td>\n",
       "      <td>111.0</td>\n",
       "      <td>0.99074</td>\n",
       "      <td>3.16</td>\n",
       "      <td>0.51</td>\n",
       "      <td>11.0</td>\n",
       "      <td>1</td>\n",
       "    </tr>\n",
       "    <tr>\n",
       "      <th>5494</th>\n",
       "      <td>7.8</td>\n",
       "      <td>0.150</td>\n",
       "      <td>0.34</td>\n",
       "      <td>1.1</td>\n",
       "      <td>0.035</td>\n",
       "      <td>31.0</td>\n",
       "      <td>93.0</td>\n",
       "      <td>0.99096</td>\n",
       "      <td>3.07</td>\n",
       "      <td>0.72</td>\n",
       "      <td>11.3</td>\n",
       "      <td>1</td>\n",
       "    </tr>\n",
       "    <tr>\n",
       "      <th>5495</th>\n",
       "      <td>6.6</td>\n",
       "      <td>0.410</td>\n",
       "      <td>0.31</td>\n",
       "      <td>1.6</td>\n",
       "      <td>0.042</td>\n",
       "      <td>18.0</td>\n",
       "      <td>101.0</td>\n",
       "      <td>0.99195</td>\n",
       "      <td>3.13</td>\n",
       "      <td>0.41</td>\n",
       "      <td>10.5</td>\n",
       "      <td>1</td>\n",
       "    </tr>\n",
       "    <tr>\n",
       "      <th>5496</th>\n",
       "      <td>7.0</td>\n",
       "      <td>0.350</td>\n",
       "      <td>0.17</td>\n",
       "      <td>1.1</td>\n",
       "      <td>0.049</td>\n",
       "      <td>7.0</td>\n",
       "      <td>119.0</td>\n",
       "      <td>0.99297</td>\n",
       "      <td>3.13</td>\n",
       "      <td>0.36</td>\n",
       "      <td>9.7</td>\n",
       "      <td>1</td>\n",
       "    </tr>\n",
       "  </tbody>\n",
       "</table>\n",
       "<p>5497 rows × 12 columns</p>\n",
       "</div>"
      ],
      "text/plain": [
       "      fixed acidity  volatile acidity  citric acid  residual sugar  chlorides  \\\n",
       "0               5.6             0.695         0.06             6.8      0.042   \n",
       "1               8.8             0.610         0.14             2.4      0.067   \n",
       "2               7.9             0.210         0.39             2.0      0.057   \n",
       "3               7.0             0.210         0.31             6.0      0.046   \n",
       "4               7.8             0.400         0.26             9.5      0.059   \n",
       "...             ...               ...          ...             ...        ...   \n",
       "5492            7.7             0.150         0.29             1.3      0.029   \n",
       "5493            6.3             0.180         0.36             1.2      0.034   \n",
       "5494            7.8             0.150         0.34             1.1      0.035   \n",
       "5495            6.6             0.410         0.31             1.6      0.042   \n",
       "5496            7.0             0.350         0.17             1.1      0.049   \n",
       "\n",
       "      free sulfur dioxide  total sulfur dioxide  density    pH  sulphates  \\\n",
       "0                     9.0                  84.0  0.99432  3.44       0.44   \n",
       "1                    10.0                  42.0  0.99690  3.19       0.59   \n",
       "2                    21.0                 138.0  0.99176  3.05       0.52   \n",
       "3                    29.0                 108.0  0.99390  3.26       0.50   \n",
       "4                    32.0                 178.0  0.99550  3.04       0.43   \n",
       "...                   ...                   ...      ...   ...        ...   \n",
       "5492                 10.0                  64.0  0.99320  3.35       0.39   \n",
       "5493                 26.0                 111.0  0.99074  3.16       0.51   \n",
       "5494                 31.0                  93.0  0.99096  3.07       0.72   \n",
       "5495                 18.0                 101.0  0.99195  3.13       0.41   \n",
       "5496                  7.0                 119.0  0.99297  3.13       0.36   \n",
       "\n",
       "      alcohol  type  \n",
       "0        10.2     1  \n",
       "1         9.5     0  \n",
       "2        10.9     1  \n",
       "3        10.8     1  \n",
       "4        10.9     1  \n",
       "...       ...   ...  \n",
       "5492     10.1     1  \n",
       "5493     11.0     1  \n",
       "5494     11.3     1  \n",
       "5495     10.5     1  \n",
       "5496      9.7     1  \n",
       "\n",
       "[5497 rows x 12 columns]"
      ]
     },
     "execution_count": 11,
     "metadata": {},
     "output_type": "execute_result"
    }
   ],
   "source": [
    "# 피처 선택\n",
    "X_data = data.loc[:, 'fixed acidity':]\n",
    "X_data"
   ]
  },
  {
   "cell_type": "code",
   "execution_count": 13,
   "id": "aa26ab83",
   "metadata": {},
   "outputs": [
    {
     "data": {
      "text/plain": [
       "(5497, 12)"
      ]
     },
     "execution_count": 13,
     "metadata": {},
     "output_type": "execute_result"
    }
   ],
   "source": [
    "X_data.shape"
   ]
  },
  {
   "cell_type": "code",
   "execution_count": 14,
   "id": "563896a3",
   "metadata": {},
   "outputs": [],
   "source": [
    "# 피처 스케일링\n",
    "from sklearn.preprocessing import MinMaxScaler\n",
    "scaler=MinMaxScaler()\n",
    "scaler.fit(X_data)\n",
    "X_data_scaled = scaler.fit_transform(X_data)"
   ]
  },
  {
   "cell_type": "code",
   "execution_count": 15,
   "id": "d3b9f89a",
   "metadata": {},
   "outputs": [
    {
     "name": "stdout",
     "output_type": "stream",
     "text": [
      "(4397, 12) (4397, 7)\n",
      "(1100, 12) (1100, 7)\n"
     ]
    }
   ],
   "source": [
    "# train/test 분리\n",
    "from sklearn.model_selection import train_test_split\n",
    "X_train, X_test, y_train, y_test = train_test_split(X_data_scaled, \n",
    "                                                    y_data, \n",
    "                                                    test_size=0.2, \n",
    "                                                    shuffle=True, \n",
    "                                                    random_state=12)\n",
    "print(X_train.shape, y_train.shape)\n",
    "print(X_test.shape, y_test.shape)"
   ]
  },
  {
   "cell_type": "code",
   "execution_count": 24,
   "id": "ba2a121b",
   "metadata": {},
   "outputs": [
    {
     "data": {
      "text/plain": [
       "12"
      ]
     },
     "execution_count": 24,
     "metadata": {},
     "output_type": "execute_result"
    }
   ],
   "source": [
    "X_train.shape[1]"
   ]
  },
  {
   "cell_type": "code",
   "execution_count": 32,
   "id": "b3efed33",
   "metadata": {
    "scrolled": false
   },
   "outputs": [
    {
     "name": "stdout",
     "output_type": "stream",
     "text": [
      "Model: \"sequential_4\"\n",
      "_________________________________________________________________\n",
      " Layer (type)                Output Shape              Param #   \n",
      "=================================================================\n",
      " dense_20 (Dense)            (None, 128)               1664      \n",
      "                                                                 \n",
      " dropout_18 (Dropout)        (None, 128)               0         \n",
      "                                                                 \n",
      " dense_21 (Dense)            (None, 64)                8256      \n",
      "                                                                 \n",
      " dropout_19 (Dropout)        (None, 64)                0         \n",
      "                                                                 \n",
      " dense_22 (Dense)            (None, 32)                2080      \n",
      "                                                                 \n",
      " dropout_20 (Dropout)        (None, 32)                0         \n",
      "                                                                 \n",
      " dense_23 (Dense)            (None, 7)                 231       \n",
      "                                                                 \n",
      "=================================================================\n",
      "Total params: 12,231\n",
      "Trainable params: 12,231\n",
      "Non-trainable params: 0\n",
      "_________________________________________________________________\n"
     ]
    }
   ],
   "source": [
    "# 심층 신경망 모델\n",
    "from tensorflow.keras import Sequential\n",
    "from tensorflow.keras.layers import Dense, Dropout\n",
    "\n",
    "def build_model(train_data, train_target):\n",
    "    model = Sequential()\n",
    "    model.add(Dense(128, activation='tanh', input_dim=X_train.shape[1]))\n",
    "    model.add(Dropout(0.2))\n",
    "    model.add(Dense(64, activation='tanh'))\n",
    "    model.add(Dropout(0.2))\n",
    "    model.add(Dense(32, activation='tanh'))\n",
    "    model.add(Dropout(0.2))\n",
    "    model.add(Dense(y_train.shape[1], activation='softmax'))\n",
    "    \n",
    "    model.compile(optimizer='rmsprop',\n",
    "                  loss='categorical_crossentropy', \n",
    "                  metrics=['acc', 'mae'])\n",
    "    return model\n",
    "\n",
    "model = build_model(X_train, y_train)\n",
    "model.summary()"
   ]
  },
  {
   "cell_type": "code",
   "execution_count": 36,
   "id": "5af2ea2f",
   "metadata": {},
   "outputs": [
    {
     "name": "stdout",
     "output_type": "stream",
     "text": [
      "Epoch 1/200\n",
      "69/69 - 0s - loss: 1.0385 - acc: 0.5581 - mae: 0.1633 - val_loss: 1.0290 - val_acc: 0.5555 - val_mae: 0.1628 - 199ms/epoch - 3ms/step\n",
      "Epoch 2/200\n",
      "69/69 - 0s - loss: 1.0310 - acc: 0.5542 - mae: 0.1628 - val_loss: 1.0315 - val_acc: 0.5600 - val_mae: 0.1615 - 178ms/epoch - 3ms/step\n",
      "Epoch 3/200\n",
      "69/69 - 0s - loss: 1.0330 - acc: 0.5611 - mae: 0.1624 - val_loss: 1.0324 - val_acc: 0.5627 - val_mae: 0.1611 - 198ms/epoch - 3ms/step\n",
      "Epoch 4/200\n",
      "69/69 - 0s - loss: 1.0351 - acc: 0.5597 - mae: 0.1627 - val_loss: 1.0296 - val_acc: 0.5600 - val_mae: 0.1615 - 185ms/epoch - 3ms/step\n",
      "Epoch 5/200\n",
      "69/69 - 0s - loss: 1.0339 - acc: 0.5617 - mae: 0.1624 - val_loss: 1.0309 - val_acc: 0.5773 - val_mae: 0.1588 - 230ms/epoch - 3ms/step\n",
      "Epoch 6/200\n",
      "69/69 - 0s - loss: 1.0340 - acc: 0.5540 - mae: 0.1629 - val_loss: 1.0305 - val_acc: 0.5645 - val_mae: 0.1604 - 421ms/epoch - 6ms/step\n",
      "Epoch 7/200\n",
      "69/69 - 0s - loss: 1.0392 - acc: 0.5545 - mae: 0.1627 - val_loss: 1.0276 - val_acc: 0.5545 - val_mae: 0.1623 - 195ms/epoch - 3ms/step\n",
      "Epoch 8/200\n",
      "69/69 - 0s - loss: 1.0333 - acc: 0.5572 - mae: 0.1623 - val_loss: 1.0337 - val_acc: 0.5718 - val_mae: 0.1609 - 255ms/epoch - 4ms/step\n",
      "Epoch 9/200\n",
      "69/69 - 0s - loss: 1.0331 - acc: 0.5608 - mae: 0.1623 - val_loss: 1.0297 - val_acc: 0.5645 - val_mae: 0.1607 - 262ms/epoch - 4ms/step\n",
      "Epoch 10/200\n",
      "69/69 - 0s - loss: 1.0318 - acc: 0.5608 - mae: 0.1621 - val_loss: 1.0265 - val_acc: 0.5609 - val_mae: 0.1611 - 296ms/epoch - 4ms/step\n",
      "Epoch 11/200\n",
      "69/69 - 0s - loss: 1.0285 - acc: 0.5606 - mae: 0.1623 - val_loss: 1.0357 - val_acc: 0.5573 - val_mae: 0.1619 - 261ms/epoch - 4ms/step\n",
      "Epoch 12/200\n",
      "69/69 - 0s - loss: 1.0276 - acc: 0.5595 - mae: 0.1618 - val_loss: 1.0313 - val_acc: 0.5618 - val_mae: 0.1603 - 210ms/epoch - 3ms/step\n",
      "Epoch 13/200\n",
      "69/69 - 0s - loss: 1.0347 - acc: 0.5542 - mae: 0.1625 - val_loss: 1.0265 - val_acc: 0.5609 - val_mae: 0.1611 - 183ms/epoch - 3ms/step\n",
      "Epoch 14/200\n",
      "69/69 - 0s - loss: 1.0343 - acc: 0.5536 - mae: 0.1629 - val_loss: 1.0251 - val_acc: 0.5600 - val_mae: 0.1608 - 213ms/epoch - 3ms/step\n",
      "Epoch 15/200\n",
      "69/69 - 0s - loss: 1.0312 - acc: 0.5654 - mae: 0.1622 - val_loss: 1.0307 - val_acc: 0.5618 - val_mae: 0.1609 - 252ms/epoch - 4ms/step\n",
      "Epoch 16/200\n",
      "69/69 - 0s - loss: 1.0350 - acc: 0.5542 - mae: 0.1623 - val_loss: 1.0252 - val_acc: 0.5627 - val_mae: 0.1627 - 246ms/epoch - 4ms/step\n",
      "Epoch 17/200\n",
      "69/69 - 0s - loss: 1.0295 - acc: 0.5622 - mae: 0.1621 - val_loss: 1.0275 - val_acc: 0.5627 - val_mae: 0.1605 - 193ms/epoch - 3ms/step\n",
      "Epoch 18/200\n",
      "69/69 - 0s - loss: 1.0317 - acc: 0.5554 - mae: 0.1629 - val_loss: 1.0588 - val_acc: 0.5455 - val_mae: 0.1601 - 185ms/epoch - 3ms/step\n",
      "Epoch 19/200\n",
      "69/69 - 0s - loss: 1.0323 - acc: 0.5561 - mae: 0.1619 - val_loss: 1.0265 - val_acc: 0.5555 - val_mae: 0.1619 - 254ms/epoch - 4ms/step\n",
      "Epoch 20/200\n",
      "69/69 - 0s - loss: 1.0285 - acc: 0.5597 - mae: 0.1621 - val_loss: 1.0248 - val_acc: 0.5627 - val_mae: 0.1598 - 219ms/epoch - 3ms/step\n",
      "Epoch 21/200\n",
      "69/69 - 0s - loss: 1.0395 - acc: 0.5524 - mae: 0.1630 - val_loss: 1.0276 - val_acc: 0.5664 - val_mae: 0.1618 - 190ms/epoch - 3ms/step\n",
      "Epoch 22/200\n",
      "69/69 - 0s - loss: 1.0345 - acc: 0.5458 - mae: 0.1631 - val_loss: 1.0445 - val_acc: 0.5673 - val_mae: 0.1601 - 187ms/epoch - 3ms/step\n",
      "Epoch 23/200\n",
      "69/69 - 0s - loss: 1.0289 - acc: 0.5590 - mae: 0.1623 - val_loss: 1.0351 - val_acc: 0.5673 - val_mae: 0.1613 - 196ms/epoch - 3ms/step\n",
      "Epoch 24/200\n",
      "69/69 - 0s - loss: 1.0329 - acc: 0.5586 - mae: 0.1626 - val_loss: 1.0290 - val_acc: 0.5545 - val_mae: 0.1595 - 256ms/epoch - 4ms/step\n",
      "Epoch 25/200\n",
      "69/69 - 0s - loss: 1.0367 - acc: 0.5515 - mae: 0.1628 - val_loss: 1.0313 - val_acc: 0.5600 - val_mae: 0.1624 - 204ms/epoch - 3ms/step\n",
      "Epoch 26/200\n",
      "69/69 - 0s - loss: 1.0278 - acc: 0.5608 - mae: 0.1619 - val_loss: 1.0238 - val_acc: 0.5627 - val_mae: 0.1616 - 216ms/epoch - 3ms/step\n",
      "Epoch 27/200\n",
      "69/69 - 0s - loss: 1.0364 - acc: 0.5508 - mae: 0.1631 - val_loss: 1.0233 - val_acc: 0.5700 - val_mae: 0.1608 - 262ms/epoch - 4ms/step\n",
      "Epoch 28/200\n",
      "69/69 - 0s - loss: 1.0320 - acc: 0.5501 - mae: 0.1625 - val_loss: 1.0216 - val_acc: 0.5682 - val_mae: 0.1599 - 193ms/epoch - 3ms/step\n",
      "Epoch 29/200\n",
      "69/69 - 0s - loss: 1.0265 - acc: 0.5554 - mae: 0.1621 - val_loss: 1.0232 - val_acc: 0.5700 - val_mae: 0.1607 - 190ms/epoch - 3ms/step\n",
      "Epoch 30/200\n",
      "69/69 - 0s - loss: 1.0256 - acc: 0.5567 - mae: 0.1618 - val_loss: 1.0344 - val_acc: 0.5745 - val_mae: 0.1605 - 207ms/epoch - 3ms/step\n",
      "Epoch 31/200\n",
      "69/69 - 0s - loss: 1.0291 - acc: 0.5561 - mae: 0.1621 - val_loss: 1.0228 - val_acc: 0.5645 - val_mae: 0.1613 - 181ms/epoch - 3ms/step\n",
      "Epoch 32/200\n",
      "69/69 - 0s - loss: 1.0319 - acc: 0.5522 - mae: 0.1628 - val_loss: 1.0302 - val_acc: 0.5745 - val_mae: 0.1590 - 236ms/epoch - 3ms/step\n",
      "Epoch 33/200\n",
      "69/69 - 0s - loss: 1.0350 - acc: 0.5638 - mae: 0.1619 - val_loss: 1.0237 - val_acc: 0.5691 - val_mae: 0.1599 - 238ms/epoch - 3ms/step\n",
      "Epoch 34/200\n",
      "69/69 - 0s - loss: 1.0296 - acc: 0.5581 - mae: 0.1623 - val_loss: 1.0280 - val_acc: 0.5709 - val_mae: 0.1587 - 204ms/epoch - 3ms/step\n",
      "Epoch 35/200\n",
      "69/69 - 0s - loss: 1.0251 - acc: 0.5545 - mae: 0.1618 - val_loss: 1.0223 - val_acc: 0.5636 - val_mae: 0.1615 - 187ms/epoch - 3ms/step\n",
      "Epoch 36/200\n",
      "69/69 - 0s - loss: 1.0317 - acc: 0.5561 - mae: 0.1625 - val_loss: 1.0237 - val_acc: 0.5682 - val_mae: 0.1605 - 224ms/epoch - 3ms/step\n",
      "Epoch 37/200\n",
      "69/69 - 0s - loss: 1.0274 - acc: 0.5570 - mae: 0.1616 - val_loss: 1.0261 - val_acc: 0.5755 - val_mae: 0.1611 - 172ms/epoch - 2ms/step\n",
      "Epoch 38/200\n",
      "69/69 - 0s - loss: 1.0293 - acc: 0.5611 - mae: 0.1618 - val_loss: 1.0272 - val_acc: 0.5645 - val_mae: 0.1602 - 200ms/epoch - 3ms/step\n"
     ]
    }
   ],
   "source": [
    "# model fit\n",
    "from tensorflow.keras.callbacks import EarlyStopping\n",
    "\n",
    "early_stopping = EarlyStopping(monitor='val_loss',  patience=10)\n",
    "history = model.fit(X_train, y_train, batch_size=64, epochs=200,\n",
    "                    validation_data=(X_test, y_test),\n",
    "                    callbacks=[early_stopping], \n",
    "                    verbose=2)"
   ]
  },
  {
   "cell_type": "code",
   "execution_count": 42,
   "id": "16702021",
   "metadata": {},
   "outputs": [
    {
     "name": "stdout",
     "output_type": "stream",
     "text": [
      "Epoch 1/200\n",
      "330/330 - 1s - loss: 1.0375 - acc: 0.5588 - mae: 0.1614 - val_loss: 1.0149 - val_acc: 0.5773 - val_mae: 0.1595 - 1s/epoch - 3ms/step\n",
      "Epoch 2/200\n",
      "330/330 - 1s - loss: 1.0461 - acc: 0.5486 - mae: 0.1626 - val_loss: 1.0143 - val_acc: 0.5523 - val_mae: 0.1611 - 1s/epoch - 4ms/step\n",
      "Epoch 3/200\n",
      "330/330 - 1s - loss: 1.0382 - acc: 0.5542 - mae: 0.1618 - val_loss: 1.0053 - val_acc: 0.5705 - val_mae: 0.1594 - 870ms/epoch - 3ms/step\n",
      "Epoch 4/200\n",
      "330/330 - 1s - loss: 1.0377 - acc: 0.5593 - mae: 0.1618 - val_loss: 1.0145 - val_acc: 0.5545 - val_mae: 0.1606 - 697ms/epoch - 2ms/step\n",
      "Epoch 5/200\n",
      "330/330 - 1s - loss: 1.0416 - acc: 0.5557 - mae: 0.1619 - val_loss: 1.0182 - val_acc: 0.5841 - val_mae: 0.1610 - 715ms/epoch - 2ms/step\n",
      "Epoch 6/200\n",
      "330/330 - 1s - loss: 1.0453 - acc: 0.5534 - mae: 0.1621 - val_loss: 1.0199 - val_acc: 0.5682 - val_mae: 0.1646 - 720ms/epoch - 2ms/step\n",
      "Epoch 7/200\n",
      "330/330 - 1s - loss: 1.0418 - acc: 0.5618 - mae: 0.1624 - val_loss: 1.0295 - val_acc: 0.5523 - val_mae: 0.1596 - 585ms/epoch - 2ms/step\n",
      "Epoch 8/200\n",
      "330/330 - 1s - loss: 1.0405 - acc: 0.5562 - mae: 0.1623 - val_loss: 1.0293 - val_acc: 0.5682 - val_mae: 0.1588 - 572ms/epoch - 2ms/step\n",
      "Epoch 9/200\n",
      "330/330 - 1s - loss: 1.0332 - acc: 0.5537 - mae: 0.1607 - val_loss: 1.0167 - val_acc: 0.5545 - val_mae: 0.1629 - 632ms/epoch - 2ms/step\n",
      "Epoch 10/200\n",
      "330/330 - 1s - loss: 1.0423 - acc: 0.5560 - mae: 0.1618 - val_loss: 1.0322 - val_acc: 0.5568 - val_mae: 0.1616 - 591ms/epoch - 2ms/step\n",
      "Epoch 11/200\n",
      "330/330 - 1s - loss: 1.0427 - acc: 0.5615 - mae: 0.1619 - val_loss: 1.0108 - val_acc: 0.5636 - val_mae: 0.1603 - 738ms/epoch - 2ms/step\n",
      "Epoch 12/200\n",
      "330/330 - 1s - loss: 1.0407 - acc: 0.5489 - mae: 0.1622 - val_loss: 1.0275 - val_acc: 0.5545 - val_mae: 0.1610 - 729ms/epoch - 2ms/step\n",
      "Epoch 13/200\n",
      "330/330 - 1s - loss: 1.0309 - acc: 0.5628 - mae: 0.1611 - val_loss: 1.0389 - val_acc: 0.5409 - val_mae: 0.1616 - 654ms/epoch - 2ms/step\n",
      "Epoch 14/200\n",
      "330/330 - 1s - loss: 1.0338 - acc: 0.5610 - mae: 0.1615 - val_loss: 1.0325 - val_acc: 0.5659 - val_mae: 0.1622 - 658ms/epoch - 2ms/step\n",
      "Epoch 15/200\n",
      "330/330 - 1s - loss: 1.0448 - acc: 0.5466 - mae: 0.1624 - val_loss: 1.0381 - val_acc: 0.5636 - val_mae: 0.1606 - 552ms/epoch - 2ms/step\n",
      "Epoch 16/200\n",
      "330/330 - 1s - loss: 1.0402 - acc: 0.5577 - mae: 0.1617 - val_loss: 1.0316 - val_acc: 0.5727 - val_mae: 0.1605 - 716ms/epoch - 2ms/step\n",
      "Epoch 17/200\n",
      "330/330 - 1s - loss: 1.0328 - acc: 0.5583 - mae: 0.1609 - val_loss: 1.0150 - val_acc: 0.5636 - val_mae: 0.1592 - 605ms/epoch - 2ms/step\n",
      "Epoch 18/200\n",
      "330/330 - 1s - loss: 1.0426 - acc: 0.5560 - mae: 0.1616 - val_loss: 1.0152 - val_acc: 0.5750 - val_mae: 0.1627 - 631ms/epoch - 2ms/step\n",
      "Epoch 19/200\n",
      "330/330 - 1s - loss: 1.0346 - acc: 0.5623 - mae: 0.1619 - val_loss: 1.0292 - val_acc: 0.5568 - val_mae: 0.1606 - 660ms/epoch - 2ms/step\n",
      "Epoch 20/200\n",
      "330/330 - 1s - loss: 1.0383 - acc: 0.5547 - mae: 0.1613 - val_loss: 1.0452 - val_acc: 0.5273 - val_mae: 0.1668 - 571ms/epoch - 2ms/step\n",
      "Epoch 21/200\n",
      "330/330 - 1s - loss: 1.0387 - acc: 0.5547 - mae: 0.1622 - val_loss: 1.0303 - val_acc: 0.5659 - val_mae: 0.1621 - 578ms/epoch - 2ms/step\n",
      "Epoch 22/200\n",
      "330/330 - 1s - loss: 1.0309 - acc: 0.5585 - mae: 0.1610 - val_loss: 1.0317 - val_acc: 0.5477 - val_mae: 0.1632 - 705ms/epoch - 2ms/step\n",
      "Epoch 23/200\n",
      "330/330 - 1s - loss: 1.0308 - acc: 0.5636 - mae: 0.1613 - val_loss: 1.0496 - val_acc: 0.5364 - val_mae: 0.1619 - 569ms/epoch - 2ms/step\n",
      "Epoch 24/200\n",
      "330/330 - 1s - loss: 1.0370 - acc: 0.5623 - mae: 0.1611 - val_loss: 1.0303 - val_acc: 0.5591 - val_mae: 0.1605 - 562ms/epoch - 2ms/step\n",
      "Epoch 25/200\n",
      "330/330 - 1s - loss: 1.0347 - acc: 0.5651 - mae: 0.1608 - val_loss: 1.0281 - val_acc: 0.5614 - val_mae: 0.1628 - 557ms/epoch - 2ms/step\n",
      "Epoch 26/200\n",
      "330/330 - 1s - loss: 1.0354 - acc: 0.5588 - mae: 0.1614 - val_loss: 1.0359 - val_acc: 0.5682 - val_mae: 0.1587 - 568ms/epoch - 2ms/step\n",
      "Epoch 27/200\n",
      "330/330 - 1s - loss: 1.0325 - acc: 0.5588 - mae: 0.1611 - val_loss: 1.0347 - val_acc: 0.5500 - val_mae: 0.1625 - 581ms/epoch - 2ms/step\n",
      "Epoch 28/200\n",
      "330/330 - 1s - loss: 1.0323 - acc: 0.5643 - mae: 0.1612 - val_loss: 1.0256 - val_acc: 0.5614 - val_mae: 0.1578 - 542ms/epoch - 2ms/step\n",
      "Epoch 29/200\n",
      "330/330 - 1s - loss: 1.0360 - acc: 0.5580 - mae: 0.1613 - val_loss: 1.0297 - val_acc: 0.5705 - val_mae: 0.1601 - 579ms/epoch - 2ms/step\n",
      "Epoch 30/200\n",
      "330/330 - 1s - loss: 1.0304 - acc: 0.5625 - mae: 0.1607 - val_loss: 1.0226 - val_acc: 0.5727 - val_mae: 0.1609 - 715ms/epoch - 2ms/step\n",
      "Epoch 31/200\n",
      "330/330 - 1s - loss: 1.0293 - acc: 0.5648 - mae: 0.1604 - val_loss: 1.0341 - val_acc: 0.5705 - val_mae: 0.1584 - 602ms/epoch - 2ms/step\n",
      "Epoch 32/200\n",
      "330/330 - 1s - loss: 1.0255 - acc: 0.5643 - mae: 0.1599 - val_loss: 1.0317 - val_acc: 0.5727 - val_mae: 0.1582 - 683ms/epoch - 2ms/step\n",
      "Epoch 33/200\n",
      "330/330 - 1s - loss: 1.0232 - acc: 0.5605 - mae: 0.1591 - val_loss: 1.0328 - val_acc: 0.5568 - val_mae: 0.1598 - 621ms/epoch - 2ms/step\n",
      "Epoch 34/200\n",
      "330/330 - 1s - loss: 1.0280 - acc: 0.5610 - mae: 0.1603 - val_loss: 1.0472 - val_acc: 0.5591 - val_mae: 0.1604 - 694ms/epoch - 2ms/step\n",
      "Epoch 35/200\n",
      "330/330 - 1s - loss: 1.0250 - acc: 0.5593 - mae: 0.1601 - val_loss: 1.0272 - val_acc: 0.5500 - val_mae: 0.1627 - 685ms/epoch - 2ms/step\n"
     ]
    }
   ],
   "source": [
    "X_tr, X_val, y_tr, y_val = train_test_split(X_train, y_train, test_size=0.1, \n",
    "                                            shuffle=True, random_state=SEED)\n",
    "\n",
    "early_stopping = EarlyStopping(monitor='acc',  patience=10)\n",
    "history = model.fit(X_tr, y_tr, batch_size=12, epochs=200,\n",
    "                    validation_data=(X_val, y_val),\n",
    "                    callbacks=[early_stopping],                    \n",
    "                    verbose=2)"
   ]
  },
  {
   "cell_type": "code",
   "execution_count": 43,
   "id": "119900b3",
   "metadata": {},
   "outputs": [
    {
     "name": "stdout",
     "output_type": "stream",
     "text": [
      "14/14 [==============================] - 0s 2ms/step - loss: 1.0272 - acc: 0.5500 - mae: 0.1627\n",
      "loss>>  1.0272170305252075\n",
      "acc>>  0.550000011920929\n"
     ]
    }
   ],
   "source": [
    "# accuracy\n",
    "loss, acc, _ = model.evaluate(X_val, y_val)\n",
    "print('loss>> ', loss)\n",
    "print('acc>> ', acc)"
   ]
  },
  {
   "cell_type": "code",
   "execution_count": 39,
   "id": "6d1d32c4",
   "metadata": {},
   "outputs": [
    {
     "data": {
      "text/plain": [
       "array([[1.3587170e-04, 2.2005385e-02, 6.3287407e-01, 3.1796753e-01,\n",
       "        2.5135366e-02, 1.8777333e-03, 3.9795873e-06],\n",
       "       [1.3264662e-04, 1.0209903e-02, 3.2492733e-01, 5.5394942e-01,\n",
       "        1.0508674e-01, 5.6880964e-03, 5.9419576e-06],\n",
       "       [4.0983381e-05, 3.7037125e-03, 1.3613890e-01, 6.9345015e-01,\n",
       "        1.5158464e-01, 1.5080238e-02, 1.4368619e-06],\n",
       "       [1.4799202e-03, 8.9490734e-02, 6.9890124e-01, 1.9954677e-01,\n",
       "        9.4318064e-03, 1.1462185e-03, 3.3364083e-06],\n",
       "       [6.9129834e-05, 1.1603856e-02, 4.3869704e-01, 4.8330644e-01,\n",
       "        6.1803956e-02, 4.5162910e-03, 3.2725029e-06]], dtype=float32)"
      ]
     },
     "execution_count": 39,
     "metadata": {},
     "output_type": "execute_result"
    }
   ],
   "source": [
    "# test 데이터에 대한 예측값 정리\n",
    "y_pred_proba = model.predict(X_test)\n",
    "y_pred_proba[:5]"
   ]
  },
  {
   "cell_type": "code",
   "execution_count": 40,
   "id": "b6a5e7be",
   "metadata": {},
   "outputs": [
    {
     "data": {
      "text/plain": [
       "array([5, 6, 6, 5, 6])"
      ]
     },
     "execution_count": 40,
     "metadata": {},
     "output_type": "execute_result"
    }
   ],
   "source": [
    "# 확률을 타겟값으로 변경 => np.argmax\n",
    "y_pred_label = np.argmax(y_pred_proba, axis=-1) + 3 \n",
    "y_pred_label[:5]"
   ]
  },
  {
   "cell_type": "code",
   "execution_count": null,
   "id": "a6ecfe35",
   "metadata": {},
   "outputs": [],
   "source": []
  }
 ],
 "metadata": {
  "kernelspec": {
   "display_name": "Python 3",
   "language": "python",
   "name": "python3"
  },
  "language_info": {
   "codemirror_mode": {
    "name": "ipython",
    "version": 3
   },
   "file_extension": ".py",
   "mimetype": "text/x-python",
   "name": "python",
   "nbconvert_exporter": "python",
   "pygments_lexer": "ipython3",
   "version": "3.8.8"
  }
 },
 "nbformat": 4,
 "nbformat_minor": 5
}
